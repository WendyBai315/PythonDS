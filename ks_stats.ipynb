{
 "cells": [
  {
   "cell_type": "code",
   "execution_count": 88,
   "metadata": {},
   "outputs": [],
   "source": [
    "from sklearn.datasets import load_iris\n",
    "from sklearn.linear_model import LogisticRegression\n",
    "from sklearn.model_selection import train_test_split\n",
    "import pandas as pd \n",
    "import numpy as np\n",
    "from scipy import stats "
   ]
  },
  {
   "cell_type": "code",
   "execution_count": 89,
   "metadata": {},
   "outputs": [
    {
     "name": "stdout",
     "output_type": "stream",
     "text": [
      "(150, 4) (150,)\n"
     ]
    }
   ],
   "source": [
    "# Let's load the first 100 samples from iris data set. It has two classes, 1 and 0, balanced.\n",
    "X, y = load_iris(return_X_y=True)\n",
    "binary_X, binary_y = X[:100], y[:100]\n",
    "\n",
    "print (X.shape, y.shape)"
   ]
  },
  {
   "cell_type": "code",
   "execution_count": 91,
   "metadata": {},
   "outputs": [],
   "source": [
    "# split into training and test and train the logstic regression model \n",
    "X_train, X_test, y_train, y_test = train_test_split(binary_X, binary_y, test_size=0.33, random_state=42)\n",
    "clf = LogisticRegression(random_state=0).fit(X_train, y_train)"
   ]
  },
  {
   "cell_type": "code",
   "execution_count": 92,
   "metadata": {},
   "outputs": [],
   "source": [
    "clf.predict(X_test)\n",
    "y_pred = clf.predict_proba(X_test)\n",
    "y_prod = [i[1] for i in y_pred]"
   ]
  },
  {
   "cell_type": "code",
   "execution_count": 93,
   "metadata": {},
   "outputs": [
    {
     "data": {
      "text/html": [
       "<div>\n",
       "<style scoped>\n",
       "    .dataframe tbody tr th:only-of-type {\n",
       "        vertical-align: middle;\n",
       "    }\n",
       "\n",
       "    .dataframe tbody tr th {\n",
       "        vertical-align: top;\n",
       "    }\n",
       "\n",
       "    .dataframe thead th {\n",
       "        text-align: right;\n",
       "    }\n",
       "</style>\n",
       "<table border=\"1\" class=\"dataframe\">\n",
       "  <thead>\n",
       "    <tr style=\"text-align: right;\">\n",
       "      <th></th>\n",
       "      <th>prediction</th>\n",
       "      <th>labels</th>\n",
       "      <th>bins</th>\n",
       "    </tr>\n",
       "  </thead>\n",
       "  <tbody>\n",
       "    <tr>\n",
       "      <td>0</td>\n",
       "      <td>0.998555</td>\n",
       "      <td>1</td>\n",
       "      <td>(0.997, 0.999]</td>\n",
       "    </tr>\n",
       "    <tr>\n",
       "      <td>1</td>\n",
       "      <td>0.982543</td>\n",
       "      <td>1</td>\n",
       "      <td>(0.967, 0.983]</td>\n",
       "    </tr>\n",
       "    <tr>\n",
       "      <td>2</td>\n",
       "      <td>0.996403</td>\n",
       "      <td>1</td>\n",
       "      <td>(0.991, 0.997]</td>\n",
       "    </tr>\n",
       "    <tr>\n",
       "      <td>3</td>\n",
       "      <td>0.035725</td>\n",
       "      <td>0</td>\n",
       "      <td>(0.032, 0.036]</td>\n",
       "    </tr>\n",
       "    <tr>\n",
       "      <td>4</td>\n",
       "      <td>0.065238</td>\n",
       "      <td>0</td>\n",
       "      <td>(0.0466, 0.967]</td>\n",
       "    </tr>\n",
       "  </tbody>\n",
       "</table>\n",
       "</div>"
      ],
      "text/plain": [
       "   prediction  labels             bins\n",
       "0    0.998555       1   (0.997, 0.999]\n",
       "1    0.982543       1   (0.967, 0.983]\n",
       "2    0.996403       1   (0.991, 0.997]\n",
       "3    0.035725       0   (0.032, 0.036]\n",
       "4    0.065238       0  (0.0466, 0.967]"
      ]
     },
     "execution_count": 93,
     "metadata": {},
     "output_type": "execute_result"
    }
   ],
   "source": [
    "df = pd.DataFrame({'prediction': y_prod, 'labels': y_test})\n",
    "df['bins'] = pd.qcut(df['prediction'], 10)\n",
    "df.head()"
   ]
  },
  {
   "cell_type": "markdown",
   "metadata": {},
   "source": [
    "## How to calculate  KS stats\n",
    "1. Sort the samples by their probabilities descendingly and group it into bins, normally 10 buckets.\n",
    "2. Within each bin, we count the number of 0, and 1 events. \n",
    "3. Calculate the cumulative percentages of 0 and 1 events in each bin.\n",
    "4. Calculate the differences of the two cumulative percentages, the max value will be the KS stats of the sample. "
   ]
  },
  {
   "cell_type": "code",
   "execution_count": 99,
   "metadata": {},
   "outputs": [],
   "source": [
    "def ks_stats(df, bin = 'bins', pred_col = 'prediction', labels = 'labels'):\n",
    "    gdf = df.groupby([bin]).agg({pred_col: 'min', pred_col : 'max', labels: 'sum', bin : 'count'})\n",
    "    gdf = gdf.rename(index = str, columns = { bin: 'count', pred_col: 'max', labels: 'true_events'}).reset_index()\n",
    "    gdf['false_events'] = gdf['count'] - gdf['true_events']\n",
    "    gdf.sort_values(bin, ascending = False, inplace = True)\n",
    "\n",
    "    gdf['true_pct'] = gdf['true_events']/sum(gdf['true_events'])\n",
    "    gdf['false_pct'] = gdf['false_events']/sum(gdf['false_events'])\n",
    "    gdf['cum_true'] = gdf['true_pct'].cumsum()\n",
    "    gdf['cum_false'] = gdf['false_pct'].cumsum()\n",
    "\n",
    "    gdf['ks'] = gdf['cum_true'] - gdf['cum_false']\n",
    "    return gdf.sort_values(bin, ascending = False)"
   ]
  },
  {
   "cell_type": "code",
   "execution_count": 101,
   "metadata": {},
   "outputs": [
    {
     "data": {
      "text/html": [
       "<div>\n",
       "<style scoped>\n",
       "    .dataframe tbody tr th:only-of-type {\n",
       "        vertical-align: middle;\n",
       "    }\n",
       "\n",
       "    .dataframe tbody tr th {\n",
       "        vertical-align: top;\n",
       "    }\n",
       "\n",
       "    .dataframe thead th {\n",
       "        text-align: right;\n",
       "    }\n",
       "</style>\n",
       "<table border=\"1\" class=\"dataframe\">\n",
       "  <thead>\n",
       "    <tr style=\"text-align: right;\">\n",
       "      <th></th>\n",
       "      <th>bins</th>\n",
       "      <th>max</th>\n",
       "      <th>true_events</th>\n",
       "      <th>count</th>\n",
       "      <th>false_events</th>\n",
       "      <th>true_pct</th>\n",
       "      <th>false_pct</th>\n",
       "      <th>cum_true</th>\n",
       "      <th>cum_false</th>\n",
       "      <th>ks</th>\n",
       "    </tr>\n",
       "  </thead>\n",
       "  <tbody>\n",
       "    <tr>\n",
       "      <td>9</td>\n",
       "      <td>(0.997, 0.999]</td>\n",
       "      <td>0.998555</td>\n",
       "      <td>4</td>\n",
       "      <td>4</td>\n",
       "      <td>0</td>\n",
       "      <td>0.285714</td>\n",
       "      <td>0.000000</td>\n",
       "      <td>0.285714</td>\n",
       "      <td>0.000000</td>\n",
       "      <td>0.285714</td>\n",
       "    </tr>\n",
       "    <tr>\n",
       "      <td>8</td>\n",
       "      <td>(0.991, 0.997]</td>\n",
       "      <td>0.996403</td>\n",
       "      <td>3</td>\n",
       "      <td>3</td>\n",
       "      <td>0</td>\n",
       "      <td>0.214286</td>\n",
       "      <td>0.000000</td>\n",
       "      <td>0.500000</td>\n",
       "      <td>0.000000</td>\n",
       "      <td>0.500000</td>\n",
       "    </tr>\n",
       "    <tr>\n",
       "      <td>7</td>\n",
       "      <td>(0.983, 0.991]</td>\n",
       "      <td>0.990842</td>\n",
       "      <td>3</td>\n",
       "      <td>3</td>\n",
       "      <td>0</td>\n",
       "      <td>0.214286</td>\n",
       "      <td>0.000000</td>\n",
       "      <td>0.714286</td>\n",
       "      <td>0.000000</td>\n",
       "      <td>0.714286</td>\n",
       "    </tr>\n",
       "    <tr>\n",
       "      <td>6</td>\n",
       "      <td>(0.967, 0.983]</td>\n",
       "      <td>0.982543</td>\n",
       "      <td>3</td>\n",
       "      <td>3</td>\n",
       "      <td>0</td>\n",
       "      <td>0.214286</td>\n",
       "      <td>0.000000</td>\n",
       "      <td>0.928571</td>\n",
       "      <td>0.000000</td>\n",
       "      <td>0.928571</td>\n",
       "    </tr>\n",
       "    <tr>\n",
       "      <td>5</td>\n",
       "      <td>(0.0466, 0.967]</td>\n",
       "      <td>0.965853</td>\n",
       "      <td>1</td>\n",
       "      <td>3</td>\n",
       "      <td>2</td>\n",
       "      <td>0.071429</td>\n",
       "      <td>0.105263</td>\n",
       "      <td>1.000000</td>\n",
       "      <td>0.105263</td>\n",
       "      <td>0.894737</td>\n",
       "    </tr>\n",
       "    <tr>\n",
       "      <td>4</td>\n",
       "      <td>(0.036, 0.0466]</td>\n",
       "      <td>0.046563</td>\n",
       "      <td>0</td>\n",
       "      <td>4</td>\n",
       "      <td>4</td>\n",
       "      <td>0.000000</td>\n",
       "      <td>0.210526</td>\n",
       "      <td>1.000000</td>\n",
       "      <td>0.315789</td>\n",
       "      <td>0.684211</td>\n",
       "    </tr>\n",
       "    <tr>\n",
       "      <td>3</td>\n",
       "      <td>(0.032, 0.036]</td>\n",
       "      <td>0.035725</td>\n",
       "      <td>0</td>\n",
       "      <td>3</td>\n",
       "      <td>3</td>\n",
       "      <td>0.000000</td>\n",
       "      <td>0.157895</td>\n",
       "      <td>1.000000</td>\n",
       "      <td>0.473684</td>\n",
       "      <td>0.526316</td>\n",
       "    </tr>\n",
       "    <tr>\n",
       "      <td>2</td>\n",
       "      <td>(0.0253, 0.032]</td>\n",
       "      <td>0.030046</td>\n",
       "      <td>0</td>\n",
       "      <td>3</td>\n",
       "      <td>3</td>\n",
       "      <td>0.000000</td>\n",
       "      <td>0.157895</td>\n",
       "      <td>1.000000</td>\n",
       "      <td>0.631579</td>\n",
       "      <td>0.368421</td>\n",
       "    </tr>\n",
       "    <tr>\n",
       "      <td>1</td>\n",
       "      <td>(0.0214, 0.0253]</td>\n",
       "      <td>0.024989</td>\n",
       "      <td>0</td>\n",
       "      <td>3</td>\n",
       "      <td>3</td>\n",
       "      <td>0.000000</td>\n",
       "      <td>0.157895</td>\n",
       "      <td>1.000000</td>\n",
       "      <td>0.789474</td>\n",
       "      <td>0.210526</td>\n",
       "    </tr>\n",
       "    <tr>\n",
       "      <td>0</td>\n",
       "      <td>(0.007019999999999999, 0.0214]</td>\n",
       "      <td>0.021217</td>\n",
       "      <td>0</td>\n",
       "      <td>4</td>\n",
       "      <td>4</td>\n",
       "      <td>0.000000</td>\n",
       "      <td>0.210526</td>\n",
       "      <td>1.000000</td>\n",
       "      <td>1.000000</td>\n",
       "      <td>0.000000</td>\n",
       "    </tr>\n",
       "  </tbody>\n",
       "</table>\n",
       "</div>"
      ],
      "text/plain": [
       "                             bins       max  true_events  count  false_events  \\\n",
       "9                  (0.997, 0.999]  0.998555            4      4             0   \n",
       "8                  (0.991, 0.997]  0.996403            3      3             0   \n",
       "7                  (0.983, 0.991]  0.990842            3      3             0   \n",
       "6                  (0.967, 0.983]  0.982543            3      3             0   \n",
       "5                 (0.0466, 0.967]  0.965853            1      3             2   \n",
       "4                 (0.036, 0.0466]  0.046563            0      4             4   \n",
       "3                  (0.032, 0.036]  0.035725            0      3             3   \n",
       "2                 (0.0253, 0.032]  0.030046            0      3             3   \n",
       "1                (0.0214, 0.0253]  0.024989            0      3             3   \n",
       "0  (0.007019999999999999, 0.0214]  0.021217            0      4             4   \n",
       "\n",
       "   true_pct  false_pct  cum_true  cum_false        ks  \n",
       "9  0.285714   0.000000  0.285714   0.000000  0.285714  \n",
       "8  0.214286   0.000000  0.500000   0.000000  0.500000  \n",
       "7  0.214286   0.000000  0.714286   0.000000  0.714286  \n",
       "6  0.214286   0.000000  0.928571   0.000000  0.928571  \n",
       "5  0.071429   0.105263  1.000000   0.105263  0.894737  \n",
       "4  0.000000   0.210526  1.000000   0.315789  0.684211  \n",
       "3  0.000000   0.157895  1.000000   0.473684  0.526316  \n",
       "2  0.000000   0.157895  1.000000   0.631579  0.368421  \n",
       "1  0.000000   0.157895  1.000000   0.789474  0.210526  \n",
       "0  0.000000   0.210526  1.000000   1.000000  0.000000  "
      ]
     },
     "execution_count": 101,
     "metadata": {},
     "output_type": "execute_result"
    }
   ],
   "source": [
    "ks_df = ks_stats(df)\n",
    "ks_df"
   ]
  },
  {
   "cell_type": "markdown",
   "metadata": {},
   "source": [
    "Therefore, the KS value for our test is 0.93 and it means the model is good at differenciating the two classification samples. \n",
    "Below is the calculation from python package directly, it's slightly different then we created above as it didn't group the samples or you can think of it as every single sample is one bucket. "
   ]
  },
  {
   "cell_type": "code",
   "execution_count": 98,
   "metadata": {},
   "outputs": [
    {
     "data": {
      "text/plain": [
       "Ks_2sampResult(statistic=1.0, pvalue=2.442571478411537e-09)"
      ]
     },
     "execution_count": 98,
     "metadata": {},
     "output_type": "execute_result"
    }
   ],
   "source": [
    "from scipy.stats import ks_2samp\n",
    "ks_2samp(df.loc[df.labels==0,\"prediction\"], df.loc[df.labels==1,\"prediction\"])"
   ]
  },
  {
   "cell_type": "code",
   "execution_count": 39,
   "metadata": {},
   "outputs": [],
   "source": [
    "https://www.listendata.com/2019/07/KS-Statistics-Python.html\n"
   ]
  },
  {
   "cell_type": "code",
   "execution_count": 43,
   "metadata": {},
   "outputs": [],
   "source": [
    "# plot\n",
    "import matplotlib.pyplot as plt\n",
    "plt.step(ks_df['cum_true'], ks_df['cum_false'], where='post', label='cum_true')\n",
    "x3 = np.linspace(-3, 3, 100)\n",
    "plt.plot(x3, target.cdf(x3), label='CDF for N(0, 1)')\n",
    "plt.ylim([0, 1]); plt.grid(True); plt.legend();\n",
    "# Add vertical lines marking Dn+ and Dn-\n",
    "iminus, iplus = np.argmax(gaps, axis=0)\n",
    "plt.vlines([x[iminus]], ecdfs[iminus], cdfs[iminus], color='r', linestyle='dashed', lw=4)\n",
    "plt.vlines([x[iplus]], cdfs[iplus], ecdfs[iplus+1], color='r', linestyle='dashed', lw=4)\n",
    "plt.show()"
   ]
  }
 ],
 "metadata": {
  "interpreter": {
   "hash": "4f03dc2b855f733b2d91d20405fdb9e83f54b2a2882af78b074bb8143b4a589d"
  },
  "kernelspec": {
   "display_name": "Python 3.7.4 64-bit ('base': conda)",
   "name": "python3"
  },
  "language_info": {
   "codemirror_mode": {
    "name": "ipython",
    "version": 3
   },
   "file_extension": ".py",
   "mimetype": "text/x-python",
   "name": "python",
   "nbconvert_exporter": "python",
   "pygments_lexer": "ipython3",
   "version": "3.7.4"
  }
 },
 "nbformat": 4,
 "nbformat_minor": 2
}
